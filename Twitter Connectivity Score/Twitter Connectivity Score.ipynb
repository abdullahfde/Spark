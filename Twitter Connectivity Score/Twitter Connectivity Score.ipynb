{
 "cells": [
  {
   "cell_type": "code",
   "execution_count": 2,
   "metadata": {
    "collapsed": true
   },
   "outputs": [],
   "source": [
    "from pyspark import SparkContext\n",
    "input = sc.textFile(\"path/usergraph_part*.txt\",6)    #dummy data\n"
   ]
  },
  {
   "cell_type": "code",
   "execution_count": 3,
   "metadata": {
    "collapsed": true
   },
   "outputs": [],
   "source": [
    "mapData=input.map(lambda x:(x.split()[0],x.split()[1]))\n",
    "following=mapData.map(lambda (x,y):(x,1)).reduceByKey(lambda x,y:x+y)\n",
    "followed=mapData.map(lambda (x,y):(y,1)).reduceByKey(lambda x,y:x+y)\n",
    "s1=followed.map(lambda (x,y):x)\n",
    "s2=following.map(lambda (x,y):x)\n",
    "f1=s1.subtract(s2).map(lambda x:(x,0)).union(following)\n",
    "f2=s2.subtract(s1).map(lambda x:(x,0)).union(followed)\n",
    "\n"
   ]
  },
  {
   "cell_type": "code",
   "execution_count": 4,
   "metadata": {},
   "outputs": [
    {
     "data": {
      "text/plain": [
       "[(u'user3761', 298450),\n",
       " (u'user5697', 146432),\n",
       " (u'user1792', 0),\n",
       " (u'user9709', 78624),\n",
       " (u'user8342', 125706),\n",
       " (u'user2968', 6838),\n",
       " (u'user3880', 116600),\n",
       " (u'user8496', 82560),\n",
       " (u'user2542', 72420),\n",
       " (u'user1411', 246433),\n",
       " (u'user2876', 276352),\n",
       " (u'user7325', 419965),\n",
       " (u'user6384', 196504),\n",
       " (u'user1165', 407132),\n",
       " (u'user72', 559296),\n",
       " (u'user8438', 252784),\n",
       " (u'user2829', 445904),\n",
       " (u'user387', 160561),\n",
       " (u'user3574', 129759),\n",
       " (u'user1860', 56048)]"
      ]
     },
     "execution_count": 4,
     "metadata": {},
     "output_type": "execute_result"
    }
   ],
   "source": [
    "alldata=f1.union(f2).reduceByKey(lambda x,y: x*y  )\n",
    "alldata.take(20)"
   ]
  },
  {
   "cell_type": "code",
   "execution_count": 5,
   "metadata": {
    "collapsed": true
   },
   "outputs": [],
   "source": [
    "alldata.repartition(3).saveAsTextFile(\"path\")\n"
   ]
  },
  {
   "cell_type": "code",
   "execution_count": null,
   "metadata": {
    "collapsed": true
   },
   "outputs": [],
   "source": []
  }
 ],
 "metadata": {
  "kernelspec": {
   "display_name": "Python 2",
   "language": "python",
   "name": "python2"
  },
  "language_info": {
   "codemirror_mode": {
    "name": "ipython",
    "version": 2
   },
   "file_extension": ".py",
   "mimetype": "text/x-python",
   "name": "python",
   "nbconvert_exporter": "python",
   "pygments_lexer": "ipython2",
   "version": "2.7.14"
  }
 },
 "nbformat": 4,
 "nbformat_minor": 2
}
