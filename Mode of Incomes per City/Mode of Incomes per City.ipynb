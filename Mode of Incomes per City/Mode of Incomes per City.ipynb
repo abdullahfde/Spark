{
 "cells": [
  {
   "cell_type": "code",
   "execution_count": 1,
   "metadata": {
    "collapsed": true
   },
   "outputs": [],
   "source": [
    "from pyspark import SparkContext"
   ]
  },
  {
   "cell_type": "code",
   "execution_count": 2,
   "metadata": {
    "collapsed": true
   },
   "outputs": [],
   "source": [
    "input = sc.textFile(\"/home/abdullah/doc/Abdullah/Master 01/Big Data/assignments/assignment1/Q3/income_part*.txt\")    #dummy data\n"
   ]
  },
  {
   "cell_type": "code",
   "execution_count": 3,
   "metadata": {
    "collapsed": true
   },
   "outputs": [],
   "source": [
    "mapData=input.map(lambda x:(x.split()[0],int(x.split()[1]))).map(lambda (x,y):((x,y),1)).combineByKey((lambda x: (x,1)),\n",
    "(lambda x,y: (x[0]+y, x[1]+1)),(lambda x,y:(x[0]+y[0],x[1]+y[1]))).map(lambda (x,y):(x[0],(x[1],y[0])))\n",
    "\n",
    "def moderesult(x,y):\n",
    "    if x[1]==y[1]:\n",
    "        if x[0] <= y[0]:\n",
    "            x = x\n",
    "        else:\n",
    "            x=y\n",
    "    else:\n",
    "        if x[1] >= y[1]:\n",
    "            x = x\n",
    "        else:\n",
    "            x=y\n",
    "        \n",
    "    return x\n",
    "        \n",
    "final=mapData.reduceByKey(lambda x,y:moderesult(x,y)).map(lambda (x,y):(x,y[0]))"
   ]
  },
  {
   "cell_type": "code",
   "execution_count": null,
   "metadata": {},
   "outputs": [],
   "source": [
    "final.take(10)"
   ]
  },
  {
   "cell_type": "code",
   "execution_count": 219,
   "metadata": {
    "collapsed": true
   },
   "outputs": [],
   "source": [
    "final.repartition(3).saveAsTextFile(\"/home/abdullah/doc/Abdullah/Master 01/Big Data/assignments/assignment2/Q3/patitons\")\n"
   ]
  },
  {
   "cell_type": "code",
   "execution_count": null,
   "metadata": {
    "collapsed": true
   },
   "outputs": [],
   "source": []
  }
 ],
 "metadata": {
  "kernelspec": {
   "display_name": "Python 2",
   "language": "python",
   "name": "python2"
  },
  "language_info": {
   "codemirror_mode": {
    "name": "ipython",
    "version": 2
   },
   "file_extension": ".py",
   "mimetype": "text/x-python",
   "name": "python",
   "nbconvert_exporter": "python",
   "pygments_lexer": "ipython2",
   "version": "2.7.14"
  }
 },
 "nbformat": 4,
 "nbformat_minor": 2
}
